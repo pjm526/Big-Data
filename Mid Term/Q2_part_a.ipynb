{
  "nbformat": 4,
  "nbformat_minor": 0,
  "metadata": {
    "colab": {
      "name": "Q2 part a.ipynb",
      "version": "0.3.2",
      "provenance": []
    },
    "kernelspec": {
      "name": "python3",
      "display_name": "Python 3"
    }
  },
  "cells": [
    {
      "metadata": {
        "id": "rcUysEFH3E_K",
        "colab_type": "text"
      },
      "cell_type": "markdown",
      "source": [
        "**Q2 Part a**"
      ]
    },
    {
      "metadata": {
        "id": "rQuRGlWanms3",
        "colab_type": "code",
        "colab": {
          "base_uri": "https://localhost:8080/",
          "height": 50
        },
        "outputId": "72f6e4e2-df64-461e-d8f8-9109d741d55c"
      },
      "cell_type": "code",
      "source": [
        "!pip install pyspark"
      ],
      "execution_count": 1,
      "outputs": [
        {
          "output_type": "stream",
          "text": [
            "Requirement already satisfied: pyspark in /usr/local/lib/python3.6/dist-packages (2.4.1)\n",
            "Requirement already satisfied: py4j==0.10.7 in /usr/local/lib/python3.6/dist-packages (from pyspark) (0.10.7)\n"
          ],
          "name": "stdout"
        }
      ]
    },
    {
      "metadata": {
        "id": "HiBBAb9qn89W",
        "colab_type": "code",
        "colab": {}
      },
      "cell_type": "code",
      "source": [
        "from pyspark.sql import SQLContext,SparkSession\n",
        "from pyspark.sql.types import StructType,IntegerType, StructField, FloatType, DecimalType\n",
        "from pyspark.sql.functions import stddev\n",
        "from pyspark import SparkContext, SparkConf"
      ],
      "execution_count": 0,
      "outputs": []
    },
    {
      "metadata": {
        "id": "7H3-RzIyn0-O",
        "colab_type": "code",
        "colab": {}
      },
      "cell_type": "code",
      "source": [
        "import pyspark as ps\n",
        "import warnings\n",
        "from pyspark.sql import SQLContext\n",
        "  \n",
        "sc = ps.SparkContext('local[4]')\n",
        "sqlContext = SQLContext(sc)"
      ],
      "execution_count": 0,
      "outputs": []
    },
    {
      "metadata": {
        "id": "5-r8HFVeoCr4",
        "colab_type": "code",
        "colab": {}
      },
      "cell_type": "code",
      "source": [
        "jsonFile = sqlContext.read.option(\"multiLine\",\"true\").option(\"mode\",\"PERMISSIVE\").json(\"JsonFile.json\")"
      ],
      "execution_count": 0,
      "outputs": []
    },
    {
      "metadata": {
        "id": "R4XE9EzfoKod",
        "colab_type": "code",
        "colab": {
          "base_uri": "https://localhost:8080/",
          "height": 34
        },
        "outputId": "7ad00693-ecca-4891-9e7f-8fe21e93bf41"
      },
      "cell_type": "code",
      "source": [
        "business = jsonFile.filter(jsonFile.state == \"AZ\")\n",
        "categories = business.rdd.filter(lambda x: \"Nightlife\" in x[\"categories\"]).toDF()\n",
        "finalFilter = categories.filter(categories.attributes.BusinessParking.garage == \"True\")\n",
        "\n",
        "if finalFilter.count()>0:\n",
        "    print(True)\n",
        "else:\n",
        "    print(False)"
      ],
      "execution_count": 5,
      "outputs": [
        {
          "output_type": "stream",
          "text": [
            "False\n"
          ],
          "name": "stdout"
        }
      ]
    },
    {
      "metadata": {
        "id": "XrDreFrbpv2S",
        "colab_type": "code",
        "colab": {}
      },
      "cell_type": "code",
      "source": [
        ""
      ],
      "execution_count": 0,
      "outputs": []
    }
  ]
}