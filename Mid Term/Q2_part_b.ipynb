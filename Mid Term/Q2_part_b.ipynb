{
  "nbformat": 4,
  "nbformat_minor": 0,
  "metadata": {
    "colab": {
      "name": "Q2 part b.ipynb",
      "version": "0.3.2",
      "provenance": [],
      "collapsed_sections": []
    },
    "kernelspec": {
      "name": "python3",
      "display_name": "Python 3"
    }
  },
  "cells": [
    {
      "metadata": {
        "id": "TGywMqor4VPe",
        "colab_type": "text"
      },
      "cell_type": "markdown",
      "source": [
        "**Q2 Part b**"
      ]
    },
    {
      "metadata": {
        "id": "-PO_jFFGrZv5",
        "colab_type": "code",
        "colab": {
          "base_uri": "https://localhost:8080/",
          "height": 50
        },
        "outputId": "71c561bf-a90c-4ed6-e10a-8f8b93ee0f48"
      },
      "cell_type": "code",
      "source": [
        "!pip install pyspark"
      ],
      "execution_count": 1,
      "outputs": [
        {
          "output_type": "stream",
          "text": [
            "Requirement already satisfied: pyspark in /usr/local/lib/python3.6/dist-packages (2.4.1)\n",
            "Requirement already satisfied: py4j==0.10.7 in /usr/local/lib/python3.6/dist-packages (from pyspark) (0.10.7)\n"
          ],
          "name": "stdout"
        }
      ]
    },
    {
      "metadata": {
        "id": "9mEiqoRvrgMv",
        "colab_type": "code",
        "colab": {}
      },
      "cell_type": "code",
      "source": [
        "from pyspark.sql import SQLContext,SparkSession\n",
        "from pyspark.sql.types import StructType,IntegerType, StructField, FloatType, DecimalType\n",
        "from pyspark.sql.functions import stddev\n",
        "from pyspark import SparkContext, SparkConf"
      ],
      "execution_count": 0,
      "outputs": []
    },
    {
      "metadata": {
        "id": "IDn-IjqLr9PX",
        "colab_type": "code",
        "colab": {}
      },
      "cell_type": "code",
      "source": [
        "import pyspark as ps\n",
        "import warnings\n",
        "from pyspark.sql import SQLContext\n",
        "  \n",
        "sc = ps.SparkContext('local[4]')\n",
        "sqlContext = SQLContext(sc)"
      ],
      "execution_count": 0,
      "outputs": []
    },
    {
      "metadata": {
        "id": "usmvAHzZsCBK",
        "colab_type": "code",
        "colab": {}
      },
      "cell_type": "code",
      "source": [
        "jsonFile = sqlContext.read.option(\"multiLine\",\"true\").option(\"mode\",\"PERMISSIVE\").json(\"JsonFile.json\")\n"
      ],
      "execution_count": 0,
      "outputs": []
    },
    {
      "metadata": {
        "id": "vlGnsBP70V1B",
        "colab_type": "code",
        "colab": {
          "base_uri": "https://localhost:8080/",
          "height": 554
        },
        "outputId": "b7fa82f7-ea89-4141-c5f7-169e4fa33c6a"
      },
      "cell_type": "code",
      "source": [
        "#Print Schema\n",
        "\n",
        "jsonFile.printSchema()"
      ],
      "execution_count": 5,
      "outputs": [
        {
          "output_type": "stream",
          "text": [
            "root\n",
            " |-- address: string (nullable = true)\n",
            " |-- attributes: struct (nullable = true)\n",
            " |    |-- BikeParking: boolean (nullable = true)\n",
            " |    |-- BusinessAcceptsBitcoin: boolean (nullable = true)\n",
            " |    |-- BusinessAcceptsCreditCards: boolean (nullable = true)\n",
            " |    |-- BusinessParking: struct (nullable = true)\n",
            " |    |    |-- garage: boolean (nullable = true)\n",
            " |    |    |-- lot: boolean (nullable = true)\n",
            " |    |    |-- street: boolean (nullable = true)\n",
            " |    |    |-- valet: boolean (nullable = true)\n",
            " |    |    |-- validated: boolean (nullable = true)\n",
            " |    |-- DogsAllowed: boolean (nullable = true)\n",
            " |    |-- RestaurantsPriceRange2: long (nullable = true)\n",
            " |    |-- WheelchairAccessible: boolean (nullable = true)\n",
            " |-- business_id: string (nullable = true)\n",
            " |-- categories: array (nullable = true)\n",
            " |    |-- element: string (containsNull = true)\n",
            " |-- city: string (nullable = true)\n",
            " |-- hours: array (nullable = true)\n",
            " |    |-- element: string (containsNull = true)\n",
            " |-- is_open: long (nullable = true)\n",
            " |-- latitude: double (nullable = true)\n",
            " |-- longitude: double (nullable = true)\n",
            " |-- name: string (nullable = true)\n",
            " |-- neighborhood: string (nullable = true)\n",
            " |-- postal_code: string (nullable = true)\n",
            " |-- review_count: long (nullable = true)\n",
            " |-- stars: double (nullable = true)\n",
            " |-- state: string (nullable = true)\n",
            " |-- type: string (nullable = true)\n",
            "\n"
          ],
          "name": "stdout"
        }
      ]
    },
    {
      "metadata": {
        "id": "l_qSfLmysv_9",
        "colab_type": "code",
        "colab": {}
      },
      "cell_type": "code",
      "source": [
        "jsonFile.createOrReplaceTempView(\"SAMPLE\")"
      ],
      "execution_count": 0,
      "outputs": []
    },
    {
      "metadata": {
        "id": "YOgkE3KvtOvi",
        "colab_type": "code",
        "colab": {}
      },
      "cell_type": "code",
      "source": [
        "#Filtering using SQL\n",
        "\n",
        "business = sqlContext.sql(\"Select state from SAMPLE where state = 'AZ'\").first()\n",
        "categories = sqlContext.sql(\"select categories from SAMPLE\").first()\n",
        "nightLife = sc.parallelize(categories[0]).filter(lambda x : \"Nightlife\" in x).count()\n",
        "\n",
        "filteredData = sqlContext.sql(\"select attributes from SAMPLE\").rdd\n",
        "garage = filteredData.map(lambda row : row[\"attributes\"][\"BusinessParking\"][\"garage\"]).collect()[0];\n"
      ],
      "execution_count": 0,
      "outputs": []
    },
    {
      "metadata": {
        "id": "08FUwBvuvYLF",
        "colab_type": "code",
        "colab": {
          "base_uri": "https://localhost:8080/",
          "height": 34
        },
        "outputId": "84ecda44-3e6b-4409-e173-7ba172317da3"
      },
      "cell_type": "code",
      "source": [
        "#SQL Conditions\n",
        "\n",
        "if((business.state == \"AZ\") and  (garage == \"True\") and  (nightLife > 0)):\n",
        "  print(True)\n",
        "else:\n",
        "  print(False)"
      ],
      "execution_count": 8,
      "outputs": [
        {
          "output_type": "stream",
          "text": [
            "False\n"
          ],
          "name": "stdout"
        }
      ]
    },
    {
      "metadata": {
        "id": "0-No0kQayLHB",
        "colab_type": "code",
        "colab": {}
      },
      "cell_type": "code",
      "source": [
        "#Used Google Collab to run the code"
      ],
      "execution_count": 0,
      "outputs": []
    },
    {
      "metadata": {
        "id": "FM2PDTnf4Xl3",
        "colab_type": "code",
        "colab": {}
      },
      "cell_type": "code",
      "source": [
        ""
      ],
      "execution_count": 0,
      "outputs": []
    }
  ]
}